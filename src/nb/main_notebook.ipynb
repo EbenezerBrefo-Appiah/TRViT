{
  "cells": [
    {
      "attachments": {},
      "cell_type": "markdown",
      "metadata": {},
      "source": [
        "### Environment Setup and Downloads"
      ]
    },
    {
      "cell_type": "code",
      "execution_count": 1,
      "metadata": {
        "id": "P4YPPsnQPMoO"
      },
      "outputs": [
        {
          "name": "stdout",
          "output_type": "stream",
          "text": [
            "Defaulting to user installation because normal site-packages is not writeable\n",
            "Collecting torchmetrics\n",
            "  Downloading torchmetrics-0.11.4-py3-none-any.whl (519 kB)\n",
            "\u001b[2K     \u001b[90m━━━━━━━━━━━━━━━━━━━━━━━━━━━━━━━━━━━━━━━\u001b[0m \u001b[32m519.2/519.2 kB\u001b[0m \u001b[31m8.4 MB/s\u001b[0m eta \u001b[36m0:00:00\u001b[0ma \u001b[36m0:00:01\u001b[0m\n",
            "\u001b[?25hRequirement already satisfied: numpy>=1.17.2 in /home/yipgroup/.local/lib/python3.7/site-packages (from torchmetrics) (1.21.6)\n",
            "Requirement already satisfied: torch>=1.8.1 in /home/yipgroup/.local/lib/python3.7/site-packages (from torchmetrics) (1.13.1+cu117)\n",
            "Requirement already satisfied: packaging in /home/yipgroup/.local/lib/python3.7/site-packages (from torchmetrics) (21.3)\n",
            "Requirement already satisfied: typing-extensions in /home/yipgroup/.local/lib/python3.7/site-packages (from torchmetrics) (4.7.1)\n",
            "Requirement already satisfied: pyparsing!=3.0.5,>=2.0.2 in /home/yipgroup/.local/lib/python3.7/site-packages (from packaging->torchmetrics) (3.0.9)\n",
            "\u001b[33mDEPRECATION: distro-info 0.18ubuntu0.18.04.1 has a non-standard version number. pip 24.0 will enforce this behaviour change. A possible replacement is to upgrade to a newer version of distro-info or contact the author to suggest that they release a version with a conforming version number. Discussion can be found at https://github.com/pypa/pip/issues/12063\u001b[0m\u001b[33m\n",
            "\u001b[0mInstalling collected packages: torchmetrics\n",
            "Successfully installed torchmetrics-0.11.4\n",
            "Defaulting to user installation because normal site-packages is not writeable\n",
            "Requirement already satisfied: openmim in /home/yipgroup/.local/lib/python3.7/site-packages (0.3.9)\n",
            "Requirement already satisfied: Click in /home/yipgroup/.local/lib/python3.7/site-packages (from openmim) (8.1.3)\n",
            "Requirement already satisfied: colorama in /usr/lib/python3/dist-packages (from openmim) (0.3.7)\n",
            "Requirement already satisfied: model-index in /home/yipgroup/.local/lib/python3.7/site-packages (from openmim) (0.1.11)\n",
            "Requirement already satisfied: opendatalab in /home/yipgroup/.local/lib/python3.7/site-packages (from openmim) (0.0.10)\n",
            "Requirement already satisfied: pandas in /home/yipgroup/.local/lib/python3.7/site-packages (from openmim) (1.3.5)\n",
            "Requirement already satisfied: pip>=19.3 in /home/yipgroup/.local/lib/python3.7/site-packages (from openmim) (23.3.1)\n",
            "Requirement already satisfied: requests in /home/yipgroup/.local/lib/python3.7/site-packages (from openmim) (2.28.2)\n",
            "Requirement already satisfied: rich in /home/yipgroup/.local/lib/python3.7/site-packages (from openmim) (13.6.0)\n",
            "Requirement already satisfied: tabulate in /home/yipgroup/.local/lib/python3.7/site-packages (from openmim) (0.9.0)\n",
            "Requirement already satisfied: importlib-metadata in /home/yipgroup/.local/lib/python3.7/site-packages (from Click->openmim) (6.7.0)\n",
            "Requirement already satisfied: pyyaml in /home/yipgroup/.local/lib/python3.7/site-packages (from model-index->openmim) (6.0)\n",
            "Requirement already satisfied: markdown in /home/yipgroup/.local/lib/python3.7/site-packages (from model-index->openmim) (3.4.1)\n",
            "Requirement already satisfied: ordered-set in /home/yipgroup/.local/lib/python3.7/site-packages (from model-index->openmim) (4.1.0)\n",
            "Requirement already satisfied: pycryptodome in /home/yipgroup/.local/lib/python3.7/site-packages (from opendatalab->openmim) (3.19.0)\n",
            "Requirement already satisfied: tqdm in /home/yipgroup/.local/lib/python3.7/site-packages (from opendatalab->openmim) (4.65.2)\n",
            "Requirement already satisfied: openxlab in /home/yipgroup/.local/lib/python3.7/site-packages (from opendatalab->openmim) (0.0.10)\n",
            "Requirement already satisfied: charset-normalizer<4,>=2 in /home/yipgroup/.local/lib/python3.7/site-packages (from requests->openmim) (2.1.1)\n",
            "Requirement already satisfied: idna<4,>=2.5 in /home/yipgroup/.local/lib/python3.7/site-packages (from requests->openmim) (3.4)\n",
            "Requirement already satisfied: urllib3<1.27,>=1.21.1 in /usr/lib/python3/dist-packages (from requests->openmim) (1.22)\n",
            "Requirement already satisfied: certifi>=2017.4.17 in /usr/lib/python3/dist-packages (from requests->openmim) (2018.1.18)\n",
            "Requirement already satisfied: python-dateutil>=2.7.3 in /home/yipgroup/.local/lib/python3.7/site-packages (from pandas->openmim) (2.8.2)\n",
            "Requirement already satisfied: pytz>=2017.3 in /home/yipgroup/.local/lib/python3.7/site-packages (from pandas->openmim) (2023.3.post1)\n",
            "Requirement already satisfied: numpy>=1.17.3 in /home/yipgroup/.local/lib/python3.7/site-packages (from pandas->openmim) (1.21.6)\n",
            "Requirement already satisfied: markdown-it-py>=2.2.0 in /home/yipgroup/.local/lib/python3.7/site-packages (from rich->openmim) (2.2.0)\n",
            "Requirement already satisfied: pygments<3.0.0,>=2.13.0 in /home/yipgroup/.local/lib/python3.7/site-packages (from rich->openmim) (2.13.0)\n",
            "Requirement already satisfied: typing-extensions<5.0,>=4.0.0 in /home/yipgroup/.local/lib/python3.7/site-packages (from rich->openmim) (4.7.1)\n",
            "Requirement already satisfied: mdurl~=0.1 in /home/yipgroup/.local/lib/python3.7/site-packages (from markdown-it-py>=2.2.0->rich->openmim) (0.1.2)\n",
            "Requirement already satisfied: six>=1.5 in /home/yipgroup/.local/lib/python3.7/site-packages (from python-dateutil>=2.7.3->pandas->openmim) (1.16.0)\n",
            "Requirement already satisfied: zipp>=0.5 in /home/yipgroup/.local/lib/python3.7/site-packages (from importlib-metadata->Click->openmim) (3.10.0)\n",
            "Requirement already satisfied: oss2~=2.17.0 in /home/yipgroup/.local/lib/python3.7/site-packages (from openxlab->opendatalab->openmim) (2.17.0)\n",
            "Requirement already satisfied: setuptools~=60.2.0 in /home/yipgroup/.local/lib/python3.7/site-packages (from openxlab->opendatalab->openmim) (60.2.0)\n",
            "Requirement already satisfied: crcmod>=1.7 in /home/yipgroup/.local/lib/python3.7/site-packages (from oss2~=2.17.0->openxlab->opendatalab->openmim) (1.7)\n",
            "Requirement already satisfied: aliyun-python-sdk-kms>=2.4.1 in /home/yipgroup/.local/lib/python3.7/site-packages (from oss2~=2.17.0->openxlab->opendatalab->openmim) (2.16.2)\n",
            "Requirement already satisfied: aliyun-python-sdk-core>=2.13.12 in /home/yipgroup/.local/lib/python3.7/site-packages (from oss2~=2.17.0->openxlab->opendatalab->openmim) (2.14.0)\n",
            "Requirement already satisfied: jmespath<1.0.0,>=0.9.3 in /home/yipgroup/.local/lib/python3.7/site-packages (from aliyun-python-sdk-core>=2.13.12->oss2~=2.17.0->openxlab->opendatalab->openmim) (0.10.0)\n",
            "Requirement already satisfied: cryptography>=2.6.0 in /home/yipgroup/.local/lib/python3.7/site-packages (from aliyun-python-sdk-core>=2.13.12->oss2~=2.17.0->openxlab->opendatalab->openmim) (41.0.5)\n",
            "Requirement already satisfied: cffi>=1.12 in /home/yipgroup/.local/lib/python3.7/site-packages (from cryptography>=2.6.0->aliyun-python-sdk-core>=2.13.12->oss2~=2.17.0->openxlab->opendatalab->openmim) (1.15.1)\n",
            "Requirement already satisfied: pycparser in /home/yipgroup/.local/lib/python3.7/site-packages (from cffi>=1.12->cryptography>=2.6.0->aliyun-python-sdk-core>=2.13.12->oss2~=2.17.0->openxlab->opendatalab->openmim) (2.21)\n",
            "\u001b[33mDEPRECATION: distro-info 0.18ubuntu0.18.04.1 has a non-standard version number. pip 24.0 will enforce this behaviour change. A possible replacement is to upgrade to a newer version of distro-info or contact the author to suggest that they release a version with a conforming version number. Discussion can be found at https://github.com/pypa/pip/issues/12063\u001b[0m\u001b[33m\n",
            "\u001b[0mTraceback (most recent call last):\n",
            "  File \"/home/yipgroup/.local/bin/mim\", line 8, in <module>\n",
            "    sys.exit(cli())\n",
            "  File \"/home/yipgroup/.local/lib/python3.6/site-packages/click/core.py\", line 1128, in __call__\n",
            "    return self.main(*args, **kwargs)\n",
            "  File \"/home/yipgroup/.local/lib/python3.6/site-packages/click/core.py\", line 1053, in main\n",
            "    rv = self.invoke(ctx)\n",
            "  File \"/home/yipgroup/.local/lib/python3.6/site-packages/click/core.py\", line 1659, in invoke\n",
            "    return _process_result(sub_ctx.command.invoke(sub_ctx))\n",
            "  File \"/home/yipgroup/.local/lib/python3.6/site-packages/click/core.py\", line 1395, in invoke\n",
            "    return ctx.invoke(self.callback, **ctx.params)\n",
            "  File \"/home/yipgroup/.local/lib/python3.6/site-packages/click/core.py\", line 754, in invoke\n",
            "    return __callback(*args, **kwargs)\n",
            "  File \"/home/yipgroup/.local/lib/python3.6/site-packages/mim/commands/install.py\", line 72, in cli\n",
            "    exit_code = install(list(args), index_url=index_url, is_yes=is_yes)\n",
            "  File \"/home/yipgroup/.local/lib/python3.6/site-packages/mim/commands/install.py\", line 128, in install\n",
            "    install_args += ['-f', get_mmcv_full_find_link(mmcv_base_url)]\n",
            "  File \"/home/yipgroup/.local/lib/python3.6/site-packages/mim/commands/install.py\", line 165, in get_mmcv_full_find_link\n",
            "    torch_v, cuda_v = get_torch_cuda_version()\n",
            "  File \"/home/yipgroup/.local/lib/python3.6/site-packages/mim/utils/utils.py\", line 340, in get_torch_cuda_version\n",
            "    raise err\n",
            "  File \"/home/yipgroup/.local/lib/python3.6/site-packages/mim/utils/utils.py\", line 338, in get_torch_cuda_version\n",
            "    import torch\n",
            "ModuleNotFoundError: No module named 'torch'\n",
            "Traceback (most recent call last):\n",
            "  File \"/home/yipgroup/.local/bin/mim\", line 8, in <module>\n",
            "    sys.exit(cli())\n",
            "  File \"/home/yipgroup/.local/lib/python3.6/site-packages/click/core.py\", line 1128, in __call__\n",
            "    return self.main(*args, **kwargs)\n",
            "  File \"/home/yipgroup/.local/lib/python3.6/site-packages/click/core.py\", line 1053, in main\n",
            "    rv = self.invoke(ctx)\n",
            "  File \"/home/yipgroup/.local/lib/python3.6/site-packages/click/core.py\", line 1659, in invoke\n",
            "    return _process_result(sub_ctx.command.invoke(sub_ctx))\n",
            "  File \"/home/yipgroup/.local/lib/python3.6/site-packages/click/core.py\", line 1395, in invoke\n",
            "    return ctx.invoke(self.callback, **ctx.params)\n",
            "  File \"/home/yipgroup/.local/lib/python3.6/site-packages/click/core.py\", line 754, in invoke\n",
            "    return __callback(*args, **kwargs)\n",
            "  File \"/home/yipgroup/.local/lib/python3.6/site-packages/mim/commands/install.py\", line 72, in cli\n",
            "    exit_code = install(list(args), index_url=index_url, is_yes=is_yes)\n",
            "  File \"/home/yipgroup/.local/lib/python3.6/site-packages/mim/commands/install.py\", line 128, in install\n",
            "    install_args += ['-f', get_mmcv_full_find_link(mmcv_base_url)]\n",
            "  File \"/home/yipgroup/.local/lib/python3.6/site-packages/mim/commands/install.py\", line 165, in get_mmcv_full_find_link\n",
            "    torch_v, cuda_v = get_torch_cuda_version()\n",
            "  File \"/home/yipgroup/.local/lib/python3.6/site-packages/mim/utils/utils.py\", line 340, in get_torch_cuda_version\n",
            "    raise err\n",
            "  File \"/home/yipgroup/.local/lib/python3.6/site-packages/mim/utils/utils.py\", line 338, in get_torch_cuda_version\n",
            "    import torch\n",
            "ModuleNotFoundError: No module named 'torch'\n",
            "Traceback (most recent call last):\n",
            "  File \"/home/yipgroup/.local/bin/mim\", line 8, in <module>\n",
            "    sys.exit(cli())\n",
            "  File \"/home/yipgroup/.local/lib/python3.6/site-packages/click/core.py\", line 1128, in __call__\n",
            "    return self.main(*args, **kwargs)\n",
            "  File \"/home/yipgroup/.local/lib/python3.6/site-packages/click/core.py\", line 1053, in main\n",
            "    rv = self.invoke(ctx)\n",
            "  File \"/home/yipgroup/.local/lib/python3.6/site-packages/click/core.py\", line 1659, in invoke\n",
            "    return _process_result(sub_ctx.command.invoke(sub_ctx))\n",
            "  File \"/home/yipgroup/.local/lib/python3.6/site-packages/click/core.py\", line 1395, in invoke\n",
            "    return ctx.invoke(self.callback, **ctx.params)\n",
            "  File \"/home/yipgroup/.local/lib/python3.6/site-packages/click/core.py\", line 754, in invoke\n",
            "    return __callback(*args, **kwargs)\n",
            "  File \"/home/yipgroup/.local/lib/python3.6/site-packages/mim/commands/install.py\", line 72, in cli\n",
            "    exit_code = install(list(args), index_url=index_url, is_yes=is_yes)\n",
            "  File \"/home/yipgroup/.local/lib/python3.6/site-packages/mim/commands/install.py\", line 128, in install\n",
            "    install_args += ['-f', get_mmcv_full_find_link(mmcv_base_url)]\n",
            "  File \"/home/yipgroup/.local/lib/python3.6/site-packages/mim/commands/install.py\", line 165, in get_mmcv_full_find_link\n",
            "    torch_v, cuda_v = get_torch_cuda_version()\n",
            "  File \"/home/yipgroup/.local/lib/python3.6/site-packages/mim/utils/utils.py\", line 340, in get_torch_cuda_version\n",
            "    raise err\n",
            "  File \"/home/yipgroup/.local/lib/python3.6/site-packages/mim/utils/utils.py\", line 338, in get_torch_cuda_version\n",
            "    import torch\n",
            "ModuleNotFoundError: No module named 'torch'\n",
            "Traceback (most recent call last):\n",
            "  File \"/home/yipgroup/.local/bin/mim\", line 8, in <module>\n",
            "    sys.exit(cli())\n",
            "  File \"/home/yipgroup/.local/lib/python3.6/site-packages/click/core.py\", line 1128, in __call__\n",
            "    return self.main(*args, **kwargs)\n",
            "  File \"/home/yipgroup/.local/lib/python3.6/site-packages/click/core.py\", line 1053, in main\n",
            "    rv = self.invoke(ctx)\n",
            "  File \"/home/yipgroup/.local/lib/python3.6/site-packages/click/core.py\", line 1659, in invoke\n",
            "    return _process_result(sub_ctx.command.invoke(sub_ctx))\n",
            "  File \"/home/yipgroup/.local/lib/python3.6/site-packages/click/core.py\", line 1395, in invoke\n",
            "    return ctx.invoke(self.callback, **ctx.params)\n",
            "  File \"/home/yipgroup/.local/lib/python3.6/site-packages/click/core.py\", line 754, in invoke\n",
            "    return __callback(*args, **kwargs)\n",
            "  File \"/home/yipgroup/.local/lib/python3.6/site-packages/mim/commands/install.py\", line 72, in cli\n",
            "    exit_code = install(list(args), index_url=index_url, is_yes=is_yes)\n",
            "  File \"/home/yipgroup/.local/lib/python3.6/site-packages/mim/commands/install.py\", line 128, in install\n",
            "    install_args += ['-f', get_mmcv_full_find_link(mmcv_base_url)]\n",
            "  File \"/home/yipgroup/.local/lib/python3.6/site-packages/mim/commands/install.py\", line 165, in get_mmcv_full_find_link\n",
            "    torch_v, cuda_v = get_torch_cuda_version()\n",
            "  File \"/home/yipgroup/.local/lib/python3.6/site-packages/mim/utils/utils.py\", line 340, in get_torch_cuda_version\n",
            "    raise err\n",
            "  File \"/home/yipgroup/.local/lib/python3.6/site-packages/mim/utils/utils.py\", line 338, in get_torch_cuda_version\n",
            "    import torch\n",
            "ModuleNotFoundError: No module named 'torch'\n",
            "Traceback (most recent call last):\n",
            "  File \"/home/yipgroup/.local/bin/mim\", line 8, in <module>\n",
            "    sys.exit(cli())\n",
            "  File \"/home/yipgroup/.local/lib/python3.6/site-packages/click/core.py\", line 1128, in __call__\n",
            "    return self.main(*args, **kwargs)\n",
            "  File \"/home/yipgroup/.local/lib/python3.6/site-packages/click/core.py\", line 1053, in main\n",
            "    rv = self.invoke(ctx)\n",
            "  File \"/home/yipgroup/.local/lib/python3.6/site-packages/click/core.py\", line 1659, in invoke\n",
            "    return _process_result(sub_ctx.command.invoke(sub_ctx))\n",
            "  File \"/home/yipgroup/.local/lib/python3.6/site-packages/click/core.py\", line 1395, in invoke\n",
            "    return ctx.invoke(self.callback, **ctx.params)\n",
            "  File \"/home/yipgroup/.local/lib/python3.6/site-packages/click/core.py\", line 754, in invoke\n",
            "    return __callback(*args, **kwargs)\n",
            "  File \"/home/yipgroup/.local/lib/python3.6/site-packages/mim/commands/install.py\", line 72, in cli\n",
            "    exit_code = install(list(args), index_url=index_url, is_yes=is_yes)\n",
            "  File \"/home/yipgroup/.local/lib/python3.6/site-packages/mim/commands/install.py\", line 128, in install\n",
            "    install_args += ['-f', get_mmcv_full_find_link(mmcv_base_url)]\n",
            "  File \"/home/yipgroup/.local/lib/python3.6/site-packages/mim/commands/install.py\", line 165, in get_mmcv_full_find_link\n",
            "    torch_v, cuda_v = get_torch_cuda_version()\n",
            "  File \"/home/yipgroup/.local/lib/python3.6/site-packages/mim/utils/utils.py\", line 340, in get_torch_cuda_version\n",
            "    raise err\n",
            "  File \"/home/yipgroup/.local/lib/python3.6/site-packages/mim/utils/utils.py\", line 338, in get_torch_cuda_version\n",
            "    import torch\n",
            "ModuleNotFoundError: No module named 'torch'\n"
          ]
        }
      ],
      "source": [
        "# install openmim from pip\n",
        "!pip install torchmetrics\n",
        "!pip install -U openmim\n",
        "!mim install mmengine\n",
        "!mim install mmcv\n",
        "!mim install mmdet\n",
        "!mim install mmpose\n",
        "!mim install mmaction"
      ]
    },
    {
      "cell_type": "code",
      "execution_count": 3,
      "metadata": {
        "id": "f-XwWc-xQdZy"
      },
      "outputs": [],
      "source": [
        "# clone repo\n",
        "!git clone https://github.com/open-mmlab/mmaction2.git\n",
        "!pip install -v -e ./mmaction2"
      ]
    },
    {
      "cell_type": "code",
      "execution_count": 4,
      "metadata": {},
      "outputs": [],
      "source": [
        "# create dirs\n",
        "!mkdir checkpoints\n",
        "!mkdir data"
      ]
    },
    {
      "cell_type": "code",
      "execution_count": 5,
      "metadata": {
        "id": "LotvF8_vQy35"
      },
      "outputs": [],
      "source": [
        "# download model\n",
        "!mim download mmaction2 --config stgcn_8xb16-bone-u100-80e_ntu60-xsub-keypoint-3d --dest ."
      ]
    },
    {
      "cell_type": "code",
      "execution_count": null,
      "metadata": {
        "vscode": {
          "languageId": "shellscript"
        }
      },
      "outputs": [],
      "source": [
        "# download matching dataset pkl\n",
        "!wget https://download.openmmlab.com/mmaction/v1.0/skeleton/data/ntu60_3d.pkl ./data/skeleton"
      ]
    },
    {
      "attachments": {},
      "cell_type": "markdown",
      "metadata": {},
      "source": [
        "### Model Running"
      ]
    },
    {
      "attachments": {},
      "cell_type": "markdown",
      "metadata": {},
      "source": [
        "Training the Model (Single GPU)"
      ]
    },
    {
      "cell_type": "code",
      "execution_count": null,
      "metadata": {
        "vscode": {
          "languageId": "shellscript"
        }
      },
      "outputs": [],
      "source": [
        "# On other machines change python3.7 to `python` or `python3` to match your enviroment\n",
        "!python3.7 mmaction2/tools/train.py mmaction2/configs/skeleton/stgcn/stgcn_8xb16-bone-u100-80e_ntu60-xsub-keypoint-3d.py --amp"
      ]
    },
    {
      "cell_type": "markdown",
      "metadata": {},
      "source": [
        "Training the Model (Multi GPU)"
      ]
    },
    {
      "cell_type": "code",
      "execution_count": 5,
      "metadata": {
        "vscode": {
          "languageId": "shellscript"
        }
      },
      "outputs": [
        {
          "name": "stdout",
          "output_type": "stream",
          "text": [
            "bash: tools/dist_train.sh: No such file or directory\n"
          ]
        }
      ],
      "source": [
        "!bash tools/dist_train.sh mmaction2/configs/skeleton/stgcn/stgcn_8xb16-bone-u100-80e_ntu60-xsub-keypoint-3d.py\\\n",
        " 3 --amp"
      ]
    },
    {
      "attachments": {},
      "cell_type": "markdown",
      "metadata": {},
      "source": [
        "Testing the Pretrained Model Here:"
      ]
    },
    {
      "cell_type": "code",
      "execution_count": null,
      "metadata": {
        "vscode": {
          "languageId": "shellscript"
        }
      },
      "outputs": [],
      "source": [
        "# On other machines change python3.7 to `python` or `python3` to match your enviroment\n",
        "!python3.7 mmaction2/tools/test.py mmaction2/configs/skeleton/stgcn/stgcn_8xb16-bone-u100-80e_ntu60-xsub-keypoint-3d.py \\\n",
        "    checkpoints/stgcn_8xb16-bone-u100-80e_ntu60-xsub-keypoint-3d_20221129-9c8d2970.pth --dump result.pkl"
      ]
    },
    {
      "attachments": {},
      "cell_type": "markdown",
      "metadata": {},
      "source": [
        "### Convert Results to CSV"
      ]
    },
    {
      "cell_type": "code",
      "execution_count": 5,
      "metadata": {},
      "outputs": [],
      "source": [
        "import pickle as pkl\n",
        "import pandas as pd\n",
        "with open(\"result.pkl\", \"rb\") as f:\n",
        "    object = pkl.load(f)\n",
        "    \n",
        "df = pd.DataFrame(object)\n",
        "df.to_csv(r'result.csv')"
      ]
    }
  ],
  "metadata": {
    "colab": {
      "provenance": []
    },
    "kernelspec": {
      "display_name": "Python 3",
      "language": "python",
      "name": "python3"
    },
    "language_info": {
      "codemirror_mode": {
        "name": "ipython",
        "version": 3
      },
      "file_extension": ".py",
      "mimetype": "text/x-python",
      "name": "python",
      "nbconvert_exporter": "python",
      "pygments_lexer": "ipython3",
      "version": "3.7.16"
    },
    "vscode": {
      "interpreter": {
        "hash": "fd69f43f58546b570e94fd7eba7b65e6bcc7a5bbc4eab0408017d18902915d69"
      }
    }
  },
  "nbformat": 4,
  "nbformat_minor": 0
}
