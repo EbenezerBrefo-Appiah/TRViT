{
  "cells": [
    {
      "attachments": {},
      "cell_type": "markdown",
      "metadata": {},
      "source": [
        "### Environment Setup and Downloads"
      ]
    },
    {
      "cell_type": "code",
      "execution_count": 6,
      "metadata": {
        "id": "P4YPPsnQPMoO"
      },
      "outputs": [],
      "source": [
        "# install openmim from pip\n",
        "!pip install -U openmim\n",
        "!mim install mmengine\n",
        "!mim install mmcv\n",
        "!mim install mmdet\n",
        "!mim install mmpose\n",
        "!mim install mmaction"
      ]
    },
    {
      "cell_type": "code",
      "execution_count": 3,
      "metadata": {
        "id": "f-XwWc-xQdZy"
      },
      "outputs": [],
      "source": [
        "# clone repo\n",
        "!git clone https://github.com/open-mmlab/mmaction2.git\n",
        "!pip install -v -e ./mmaction2"
      ]
    },
    {
      "cell_type": "code",
      "execution_count": 4,
      "metadata": {},
      "outputs": [],
      "source": [
        "# create dirs\n",
        "!mkdir checkpoints\n",
        "!mkdir data"
      ]
    },
    {
      "cell_type": "code",
      "execution_count": 5,
      "metadata": {
        "id": "LotvF8_vQy35"
      },
      "outputs": [],
      "source": [
        "# download model\n",
        "!mim download mmaction2 --config stgcn_8xb16-bone-u100-80e_ntu60-xsub-keypoint-3d --dest ."
      ]
    },
    {
      "cell_type": "code",
      "execution_count": null,
      "metadata": {
        "vscode": {
          "languageId": "shellscript"
        }
      },
      "outputs": [],
      "source": [
        "# download matching dataset pkl\n",
        "!wget https://download.openmmlab.com/mmaction/v1.0/skeleton/data/ntu60_3d.pkl ./data/skeleton"
      ]
    },
    {
      "attachments": {},
      "cell_type": "markdown",
      "metadata": {},
      "source": [
        "### Model Running"
      ]
    },
    {
      "attachments": {},
      "cell_type": "markdown",
      "metadata": {},
      "source": [
        "Testing the Pretrained Model Here:"
      ]
    },
    {
      "cell_type": "code",
      "execution_count": null,
      "metadata": {
        "vscode": {
          "languageId": "shellscript"
        }
      },
      "outputs": [],
      "source": [
        "# On other machines change python3.7 to `python` or `python3` to match your enviroment\n",
        "!python3.7 mmaction2/tools/test.py mmaction2/configs/skeleton/stgcn/stgcn_8xb16-bone-u100-80e_ntu60-xsub-keypoint-3d.py \\\n",
        "    checkpoints/stgcn_8xb16-bone-u100-80e_ntu60-xsub-keypoint-3d_20221129-9c8d2970.pth --dump result.pkl"
      ]
    },
    {
      "attachments": {},
      "cell_type": "markdown",
      "metadata": {},
      "source": [
        "### Convert Results to CSV"
      ]
    },
    {
      "cell_type": "code",
      "execution_count": 5,
      "metadata": {},
      "outputs": [],
      "source": [
        "import pickle as pkl\n",
        "import pandas as pd\n",
        "with open(\"result.pkl\", \"rb\") as f:\n",
        "    object = pkl.load(f)\n",
        "    \n",
        "df = pd.DataFrame(object)\n",
        "df.to_csv(r'result.csv')"
      ]
    }
  ],
  "metadata": {
    "colab": {
      "provenance": []
    },
    "kernelspec": {
      "display_name": "Python 3",
      "language": "python",
      "name": "python3"
    },
    "language_info": {
      "codemirror_mode": {
        "name": "ipython",
        "version": 3
      },
      "file_extension": ".py",
      "mimetype": "text/x-python",
      "name": "python",
      "nbconvert_exporter": "python",
      "pygments_lexer": "ipython3",
      "version": "3.10.5"
    },
    "vscode": {
      "interpreter": {
        "hash": "fd69f43f58546b570e94fd7eba7b65e6bcc7a5bbc4eab0408017d18902915d69"
      }
    }
  },
  "nbformat": 4,
  "nbformat_minor": 0
}
