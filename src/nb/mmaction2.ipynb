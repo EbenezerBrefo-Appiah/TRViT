{
  "nbformat": 4,
  "nbformat_minor": 0,
  "metadata": {
    "colab": {
      "provenance": []
    },
    "kernelspec": {
      "name": "python3",
      "display_name": "Python 3"
    },
    "language_info": {
      "name": "python"
    }
  },
  "cells": [
    {
      "cell_type": "code",
      "execution_count": null,
      "metadata": {
        "id": "P4YPPsnQPMoO"
      },
      "outputs": [],
      "source": [
        "!pip install -U openmim\n",
        "!mim install mmengine\n",
        "!mim install mmcv\n",
        "!mim install mmdet\n",
        "!mim install mmpose"
      ]
    },
    {
      "cell_type": "code",
      "source": [
        "!git clone https://github.com/open-mmlab/mmaction2.git\n",
        "!pip install -v -e ./mmaction2"
      ],
      "metadata": {
        "id": "f-XwWc-xQdZy"
      },
      "execution_count": null,
      "outputs": []
    },
    {
      "cell_type": "code",
      "source": [
        "!mim download mmaction2 --config tsn_imagenet-pretrained-r50_8xb32-1x1x8-100e_kinetics400-rgb --dest ."
      ],
      "metadata": {
        "id": "LotvF8_vQy35"
      },
      "execution_count": null,
      "outputs": []
    },
    {
      "cell_type": "markdown",
      "source": [
        "This code downloads the model for a RGB-based video understanding model. We should change this to switch to a pose-based one."
      ],
      "metadata": {
        "id": "gyOTYuGoq9MY"
      }
    },
    {
      "cell_type": "code",
      "source": [
        "!python mmaction2/demo/demo.py tsn_imagenet-pretrained-r50_8xb32-1x1x8-100e_kinetics400-rgb.py \\\n",
        "    tsn_imagenet-pretrained-r50_8xb32-1x1x8-100e_kinetics400-rgb_20220906-2692d16c.pth \\\n",
        "    /content/mmaction2/demo/demo.mp4 mmaction2/tools/data/kinetics/label_map_k400.txt"
      ],
      "metadata": {
        "id": "ZW-JEU31Q9LS"
      },
      "execution_count": null,
      "outputs": []
    }
  ]
}